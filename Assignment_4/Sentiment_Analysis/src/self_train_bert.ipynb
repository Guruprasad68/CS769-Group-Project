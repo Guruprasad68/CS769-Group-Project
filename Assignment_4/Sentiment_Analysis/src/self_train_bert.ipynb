{
  "cells": [
    {
      "cell_type": "code",
      "execution_count": null,
      "metadata": {
        "colab": {
          "base_uri": "https://localhost:8080/"
        },
        "id": "p6W4DwnNz036",
        "outputId": "9fac9cf3-2b09-4a93-caa5-5d9e850066b7"
      },
      "outputs": [
        {
          "name": "stdout",
          "output_type": "stream",
          "text": [
            "Drive already mounted at /content/drive; to attempt to forcibly remount, call drive.mount(\"/content/drive\", force_remount=True).\n",
            "/content/drive/MyDrive/769_Project_Nitin/Hinglish\n"
          ]
        }
      ],
      "source": [
        "from google.colab import drive\n",
        "drive.mount('/content/drive') \n",
        "%cd /content/drive/MyDrive/769_Project_Nitin/Hinglish"
      ]
    },
    {
      "cell_type": "code",
      "execution_count": null,
      "metadata": {
        "id": "2nlvQRBkz_Zd"
      },
      "outputs": [],
      "source": [
        "!pip install fastcore==1.0.13\n",
        "!pip install transformers==3.3.1\n",
        "!pip install wandb==0.10.5"
      ]
    },
    {
      "cell_type": "code",
      "execution_count": null,
      "metadata": {
        "colab": {
          "base_uri": "https://localhost:8080/"
        },
        "id": "QntaQb-61utK",
        "outputId": "2e2e63df-7540-490b-b628-bd696b2697e5"
      },
      "outputs": [
        {
          "name": "stderr",
          "output_type": "stream",
          "text": [
            "\u001b[34m\u001b[1mwandb\u001b[0m: Currently logged in as: \u001b[33m769\u001b[0m (use `wandb login --relogin` to force relogin)\n"
          ]
        },
        {
          "data": {
            "text/plain": [
              "True"
            ]
          },
          "execution_count": 3,
          "metadata": {},
          "output_type": "execute_result"
        }
      ],
      "source": [
        "import wandb\n",
        "wandb.login()"
      ]
    },
    {
      "cell_type": "code",
      "execution_count": null,
      "metadata": {
        "colab": {
          "base_uri": "https://localhost:8080/",
          "height": 173
        },
        "id": "oVdSF6lJ2Meg",
        "outputId": "4c63c10d-bfb3-4c06-a47f-b43653e03201"
      },
      "outputs": [
        {
          "name": "stderr",
          "output_type": "stream",
          "text": [
            "\u001b[34m\u001b[1mwandb\u001b[0m: wandb version 0.12.15 is available!  To upgrade, please run:\n",
            "\u001b[34m\u001b[1mwandb\u001b[0m:  $ pip install wandb --upgrade\n"
          ]
        },
        {
          "data": {
            "text/html": [
              "\n",
              "                Tracking run with wandb version 0.10.5<br/>\n",
              "                Syncing run <strong style=\"color:#cdcd00\">bert 27.04.22</strong> to <a href=\"https://wandb.ai\" target=\"_blank\">Weights & Biases</a> <a href=\"https://docs.wandb.com/integrations/jupyter.html\" target=\"_blank\">(Documentation)</a>.<br/>\n",
              "                Project page: <a href=\"https://wandb.ai/769/hinglish\" target=\"_blank\">https://wandb.ai/769/hinglish</a><br/>\n",
              "                Run page: <a href=\"https://wandb.ai/769/hinglish/runs/4tv1fuhe\" target=\"_blank\">https://wandb.ai/769/hinglish/runs/4tv1fuhe</a><br/>\n",
              "                Run data is saved locally in <code>wandb/run-20220427_052530-4tv1fuhe</code><br/><br/>\n",
              "            "
            ],
            "text/plain": [
              "<IPython.core.display.HTML object>"
            ]
          },
          "metadata": {},
          "output_type": "display_data"
        },
        {
          "name": "stdout",
          "output_type": "stream",
          "text": [
            "{'Model Info': 'Setup self.model training for bert'}\n"
          ]
        }
      ],
      "source": [
        "from hinglish import HinglishTrainer\n",
        "\n",
        "hinglishbert = HinglishTrainer(\n",
        "    model_name = \"bert\",\n",
        "    batch_size = 32,\n",
        "    attention_probs_dropout_prob = 0.4,\n",
        "    learning_rate = 1e-6,\n",
        "    adam_epsilon = 1e-8,\n",
        "    hidden_dropout_prob = 0.3,\n",
        "    epochs = 5,\n",
        "    lm_model_dir = \"bert\",\n",
        "    wname=\"bert\",\n",
        "    drivepath=\"repro\",\n",
        "    train_json=\"self_train_data/concat_train.json\",\n",
        "    dev_json=\"self_train_data/valid.json\",\n",
        "    test_json=\"self_train_data/test.json\",\n",
        "    test_labels_csv=\"self_train_data/test_labels.csv\",\n",
        "    )\n",
        "\n"
      ]
    },
    {
      "cell_type": "code",
      "execution_count": null,
      "metadata": {
        "colab": {
          "base_uri": "https://localhost:8080/"
        },
        "id": "o-W60rP5uCmR",
        "outputId": "eeeab51f-b57c-4149-9294-b8b73e0ee7ce"
      },
      "outputs": [
        {
          "name": "stdout",
          "output_type": "stream",
          "text": [
            "Loading Sentences and Labels\n",
            "Loading BERT tokenizer...\n",
            "\n",
            "Setting Config\n",
            "Preparing Dataloaders\n",
            "Train Length: 1017\n",
            "Valid Length: 255\n",
            "Dev Length: 93\n",
            "Loading Model\n",
            "model loaded\n",
            "num_training_steps =  5085\n",
            "Starting epoch : 1\n",
            "====== Epoch 1 : Step 0 of 1017 ======\n",
            "====== Epoch 1 : Step 100 of 1017 ======\n",
            "Valid Accuracy: 0.9249600196826178\n",
            "Valid Accuracy: 0.6833613445378152\n",
            "valid_f1 =  0.924552918446647\n",
            "dev_f1 =  0.6767359407213354\n",
            "====== Epoch 1 : Step 200 of 1017 ======\n",
            "Valid Accuracy: 0.9349243449378767\n",
            "Valid Accuracy: 0.7129411764705882\n",
            "valid_f1 =  0.9347062924403007\n",
            "dev_f1 =  0.7151167588653432\n",
            "====== Epoch 1 : Step 300 of 1017 ======\n",
            "Valid Accuracy: 0.9345552958543486\n",
            "Valid Accuracy: 0.7095798319327731\n",
            "valid_f1 =  0.9343128157139468\n",
            "dev_f1 =  0.710875050043471\n",
            "====== Epoch 1 : Step 400 of 1017 ======\n",
            "Valid Accuracy: 0.9361545085496371\n",
            "Valid Accuracy: 0.7112605042016806\n",
            "valid_f1 =  0.9359615383553597\n",
            "dev_f1 =  0.7135886389827636\n",
            "====== Epoch 1 : Step 500 of 1017 ======\n",
            "Valid Accuracy: 0.9350473612990527\n",
            "Valid Accuracy: 0.7105882352941176\n",
            "valid_f1 =  0.9348247317352424\n",
            "dev_f1 =  0.7126480893300591\n",
            "====== Epoch 1 : Step 600 of 1017 ======\n",
            "Valid Accuracy: 0.9338171976872924\n",
            "Valid Accuracy: 0.7129411764705882\n",
            "valid_f1 =  0.9336258446097002\n",
            "dev_f1 =  0.7154618730996355\n",
            "====== Epoch 1 : Step 700 of 1017 ======\n",
            "Valid Accuracy: 0.9345552958543486\n",
            "Valid Accuracy: 0.7085714285714285\n",
            "valid_f1 =  0.9342718299804432\n",
            "dev_f1 =  0.71015048268193\n",
            "====== Epoch 1 : Step 800 of 1017 ======\n",
            "Valid Accuracy: 0.9345552958543486\n",
            "Valid Accuracy: 0.7109243697478992\n",
            "valid_f1 =  0.9343088852926179\n",
            "dev_f1 =  0.712943897529656\n",
            "====== Epoch 1 : Step 900 of 1017 ======\n",
            "Valid Accuracy: 0.9352933940214049\n",
            "Valid Accuracy: 0.7095798319327731\n",
            "valid_f1 =  0.9350730705988797\n",
            "dev_f1 =  0.7117512471050412\n",
            "====== Epoch 1 : Step 1000 of 1017 ======\n",
            "Valid Accuracy: 0.9349243449378767\n",
            "Valid Accuracy: 0.7149579831932773\n",
            "valid_f1 =  0.9347157710104312\n",
            "dev_f1 =  0.717338473987077\n",
            "Best valid F1 =  0.717338473987077\n",
            "Saving Model\n",
            "Starting epoch : 2\n",
            "====== Epoch 2 : Step 0 of 1017 ======\n",
            "====== Epoch 2 : Step 100 of 1017 ======\n",
            "Valid Accuracy: 0.9277893959896666\n",
            "Valid Accuracy: 0.6853781512605042\n",
            "valid_f1 =  0.9274018149127224\n",
            "dev_f1 =  0.6800481779892277\n",
            "====== Epoch 2 : Step 200 of 1017 ======\n",
            "Valid Accuracy: 0.9350473612990527\n",
            "Valid Accuracy: 0.7102521008403362\n",
            "valid_f1 =  0.9348477742023104\n",
            "dev_f1 =  0.7128099709841895\n",
            "====== Epoch 2 : Step 300 of 1017 ======\n",
            "Valid Accuracy: 0.9354164103825808\n",
            "Valid Accuracy: 0.7089075630252101\n",
            "valid_f1 =  0.9351905512906109\n",
            "dev_f1 =  0.7113392470439872\n",
            "====== Epoch 2 : Step 400 of 1017 ======\n",
            "Valid Accuracy: 0.9343092631319966\n",
            "Valid Accuracy: 0.7095798319327731\n",
            "valid_f1 =  0.9340617632668667\n",
            "dev_f1 =  0.7113619451737722\n",
            "====== Epoch 2 : Step 500 of 1017 ======\n",
            "Valid Accuracy: 0.9351703776602288\n",
            "Valid Accuracy: 0.7105882352941176\n",
            "valid_f1 =  0.9348869192318306\n",
            "dev_f1 =  0.7123197890884708\n",
            "====== Epoch 2 : Step 600 of 1017 ======\n",
            "Valid Accuracy: 0.9351703776602288\n",
            "Valid Accuracy: 0.7099159663865546\n",
            "valid_f1 =  0.9348848349883472\n",
            "dev_f1 =  0.711485968516609\n",
            "====== Epoch 2 : Step 700 of 1017 ======\n",
            "Valid Accuracy: 0.9343092631319966\n",
            "Valid Accuracy: 0.7058823529411765\n",
            "valid_f1 =  0.934006429220038\n",
            "dev_f1 =  0.7067978625803791\n",
            "====== Epoch 2 : Step 800 of 1017 ======\n",
            "Valid Accuracy: 0.9354164103825808\n",
            "Valid Accuracy: 0.7115966386554622\n",
            "valid_f1 =  0.9351480527903879\n",
            "dev_f1 =  0.7136926681140642\n",
            "====== Epoch 2 : Step 900 of 1017 ======\n",
            "Valid Accuracy: 0.9348013285767007\n",
            "Valid Accuracy: 0.7089075630252101\n",
            "valid_f1 =  0.9345040362050283\n",
            "dev_f1 =  0.7106675048970906\n",
            "====== Epoch 2 : Step 1000 of 1017 ======\n",
            "Valid Accuracy: 0.9343092631319966\n",
            "Valid Accuracy: 0.7119327731092437\n",
            "valid_f1 =  0.9340934284709187\n",
            "dev_f1 =  0.7144891825088594\n",
            "Starting epoch : 3\n",
            "====== Epoch 3 : Step 0 of 1017 ======\n",
            "====== Epoch 3 : Step 100 of 1017 ======\n",
            "Valid Accuracy: 0.9297576577684832\n",
            "Valid Accuracy: 0.6880672268907563\n",
            "valid_f1 =  0.9293366792763211\n",
            "dev_f1 =  0.6847314605030931\n",
            "====== Epoch 3 : Step 200 of 1017 ======\n",
            "Valid Accuracy: 0.9339402140484685\n",
            "Valid Accuracy: 0.7095798319327731\n",
            "valid_f1 =  0.9336421273739096\n",
            "dev_f1 =  0.7106880076393348\n",
            "====== Epoch 3 : Step 300 of 1017 ======\n",
            "Valid Accuracy: 0.9348013285767007\n",
            "Valid Accuracy: 0.7092436974789916\n",
            "valid_f1 =  0.9345180288210525\n",
            "dev_f1 =  0.7109601035376049\n",
            "====== Epoch 3 : Step 400 of 1017 ======\n",
            "Valid Accuracy: 0.9338171976872924\n",
            "Valid Accuracy: 0.706890756302521\n",
            "valid_f1 =  0.9335171571446889\n",
            "dev_f1 =  0.7082639499543495\n",
            "====== Epoch 3 : Step 500 of 1017 ======\n",
            "Valid Accuracy: 0.9334481486037643\n",
            "Valid Accuracy: 0.7058823529411765\n",
            "valid_f1 =  0.9331502348590973\n",
            "dev_f1 =  0.707475658138442\n",
            "====== Epoch 3 : Step 600 of 1017 ======\n",
            "Valid Accuracy: 0.9343092631319966\n",
            "Valid Accuracy: 0.7085714285714285\n",
            "valid_f1 =  0.9340256525360617\n",
            "dev_f1 =  0.7104384668935738\n",
            "====== Epoch 3 : Step 700 of 1017 ======\n",
            "Valid Accuracy: 0.9328330667978841\n",
            "Valid Accuracy: 0.7052100840336134\n",
            "valid_f1 =  0.9325087898972774\n",
            "dev_f1 =  0.7059858569835477\n",
            "====== Epoch 3 : Step 800 of 1017 ======\n",
            "Valid Accuracy: 0.9341862467708205\n",
            "Valid Accuracy: 0.7092436974789916\n",
            "valid_f1 =  0.9338775699881238\n",
            "dev_f1 =  0.7107006916349438\n",
            "====== Epoch 3 : Step 900 of 1017 ======\n",
            "Valid Accuracy: 0.9345552958543486\n",
            "Valid Accuracy: 0.7058823529411765\n",
            "valid_f1 =  0.9342415067170479\n",
            "dev_f1 =  0.7073220774044323\n",
            "====== Epoch 3 : Step 1000 of 1017 ======\n",
            "Valid Accuracy: 0.9340632304096445\n",
            "Valid Accuracy: 0.705546218487395\n",
            "valid_f1 =  0.9337842345750261\n",
            "dev_f1 =  0.7072499258546253\n",
            "Starting epoch : 4\n",
            "====== Epoch 4 : Step 0 of 1017 ======\n",
            "====== Epoch 4 : Step 100 of 1017 ======\n",
            "Valid Accuracy: 0.9287735268790749\n",
            "Valid Accuracy: 0.6857142857142857\n",
            "valid_f1 =  0.9283468871667445\n",
            "dev_f1 =  0.6825806590129043\n",
            "====== Epoch 4 : Step 200 of 1017 ======\n",
            "Valid Accuracy: 0.932464017714356\n",
            "Valid Accuracy: 0.6988235294117647\n",
            "valid_f1 =  0.9321302833534261\n",
            "dev_f1 =  0.6991804896178572\n",
            "====== Epoch 4 : Step 300 of 1017 ======\n",
            "Valid Accuracy: 0.9341862467708205\n",
            "Valid Accuracy: 0.7031932773109244\n",
            "valid_f1 =  0.933905612652968\n",
            "dev_f1 =  0.7047042574830074\n",
            "====== Epoch 4 : Step 400 of 1017 ======\n",
            "Valid Accuracy: 0.9338171976872924\n",
            "Valid Accuracy: 0.704873949579832\n",
            "valid_f1 =  0.9335692999699692\n",
            "dev_f1 =  0.7069268844183888\n",
            "====== Epoch 4 : Step 500 of 1017 ======\n",
            "Valid Accuracy: 0.9333251322425883\n",
            "Valid Accuracy: 0.705546218487395\n",
            "valid_f1 =  0.9330334898449114\n",
            "dev_f1 =  0.7068350272138435\n",
            "====== Epoch 4 : Step 600 of 1017 ======\n",
            "Valid Accuracy: 0.9339402140484685\n",
            "Valid Accuracy: 0.7038655462184874\n",
            "valid_f1 =  0.9336598394262077\n",
            "dev_f1 =  0.705119463119494\n",
            "====== Epoch 4 : Step 700 of 1017 ======\n",
            "Valid Accuracy: 0.9329560831590602\n",
            "Valid Accuracy: 0.7028571428571428\n",
            "valid_f1 =  0.932651939247303\n",
            "dev_f1 =  0.7039796219545166\n",
            "====== Epoch 4 : Step 800 of 1017 ======\n",
            "Valid Accuracy: 0.9338171976872924\n",
            "Valid Accuracy: 0.7015126050420168\n",
            "valid_f1 =  0.9335328892759857\n",
            "dev_f1 =  0.7027498226142891\n",
            "====== Epoch 4 : Step 900 of 1017 ======\n",
            "Valid Accuracy: 0.9336941813261164\n",
            "Valid Accuracy: 0.7031932773109244\n",
            "valid_f1 =  0.9334236278519991\n",
            "dev_f1 =  0.7046067510719224\n",
            "====== Epoch 4 : Step 1000 of 1017 ======\n",
            "Valid Accuracy: 0.9334481486037643\n",
            "Valid Accuracy: 0.7025210084033613\n",
            "valid_f1 =  0.9331563394217537\n",
            "dev_f1 =  0.7038358076368776\n",
            "Starting epoch : 5\n",
            "====== Epoch 5 : Step 0 of 1017 ======\n",
            "====== Epoch 5 : Step 100 of 1017 ======\n",
            "Valid Accuracy: 0.9322179849920039\n",
            "Valid Accuracy: 0.6944537815126051\n",
            "valid_f1 =  0.9318832178408848\n",
            "dev_f1 =  0.6934838869592115\n",
            "====== Epoch 5 : Step 200 of 1017 ======\n",
            "Valid Accuracy: 0.932587034075532\n",
            "Valid Accuracy: 0.6988235294117647\n",
            "valid_f1 =  0.9322643797319361\n",
            "dev_f1 =  0.6993385184943942\n",
            "====== Epoch 5 : Step 300 of 1017 ======\n",
            "Valid Accuracy: 0.9330790995202362\n",
            "Valid Accuracy: 0.7005042016806723\n",
            "valid_f1 =  0.9327688661007733\n",
            "dev_f1 =  0.7017310294219841\n",
            "====== Epoch 5 : Step 400 of 1017 ======\n",
            "Valid Accuracy: 0.9327100504367081\n",
            "Valid Accuracy: 0.7008403361344537\n",
            "valid_f1 =  0.9323942397172438\n",
            "dev_f1 =  0.7019997128252018\n",
            "====== Epoch 5 : Step 500 of 1017 ======\n",
            "Valid Accuracy: 0.9327100504367081\n",
            "Valid Accuracy: 0.6988235294117647\n",
            "valid_f1 =  0.9324098049380048\n",
            "dev_f1 =  0.6999710320252016\n",
            "====== Epoch 5 : Step 600 of 1017 ======\n",
            "Valid Accuracy: 0.9332021158814122\n",
            "Valid Accuracy: 0.7005042016806723\n",
            "valid_f1 =  0.932911722873205\n",
            "dev_f1 =  0.7017560124806158\n",
            "====== Epoch 5 : Step 700 of 1017 ======\n",
            "Valid Accuracy: 0.9330790995202362\n",
            "Valid Accuracy: 0.6998319327731093\n",
            "valid_f1 =  0.9327837424468305\n",
            "dev_f1 =  0.701044844266364\n",
            "====== Epoch 5 : Step 800 of 1017 ======\n",
            "Valid Accuracy: 0.9330790995202362\n",
            "Valid Accuracy: 0.7005042016806723\n",
            "valid_f1 =  0.9327880430234138\n",
            "dev_f1 =  0.7017915022467234\n",
            "====== Epoch 5 : Step 900 of 1017 ======\n",
            "Valid Accuracy: 0.9334481486037643\n",
            "Valid Accuracy: 0.7008403361344537\n",
            "valid_f1 =  0.9331485100105777\n",
            "dev_f1 =  0.702222595406416\n",
            "====== Epoch 5 : Step 1000 of 1017 ======\n",
            "Valid Accuracy: 0.9336941813261164\n",
            "Valid Accuracy: 0.7011764705882353\n",
            "valid_f1 =  0.9333888044017661\n",
            "dev_f1 =  0.7025256864619184\n",
            "Training complete!\n",
            "\n",
            "Evaluating self_train_data/valid.json using bert and Saving the Predictions\n",
            "Validation Accuracy:  0.7011764705882353\n",
            "Evaluating self_train_data/test.json using bert and Saving the Predictions\n",
            "Test Accuracy:  0.661744966442953\n",
            "Test Precision: 0.6677754236756696, Recall: 0.6611784212922839 ,F1: 0.6635692413210877\n",
            "saving final model\n"
          ]
        }
      ],
      "source": [
        "hinglishbert.train()\n",
        "hinglishbert.evaluate()"
      ]
    },
    {
      "cell_type": "code",
      "execution_count": null,
      "metadata": {
        "id": "9FHpv6Cxm_1o"
      },
      "outputs": [],
      "source": []
    }
  ],
  "metadata": {
    "accelerator": "GPU",
    "colab": {
      "collapsed_sections": [],
      "name": "self_train_bert_nirantk.ipynb",
      "provenance": []
    },
    "kernelspec": {
      "display_name": "Python 3",
      "name": "python3"
    },
    "language_info": {
      "name": "python"
    }
  },
  "nbformat": 4,
  "nbformat_minor": 0
}
