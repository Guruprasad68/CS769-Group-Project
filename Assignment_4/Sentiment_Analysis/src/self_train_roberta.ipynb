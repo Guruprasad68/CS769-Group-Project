{
  "nbformat": 4,
  "nbformat_minor": 0,
  "metadata": {
    "colab": {
      "name": "self_train_roberta_nirantk.ipynb",
      "provenance": [],
      "collapsed_sections": []
    },
    "kernelspec": {
      "name": "python3",
      "display_name": "Python 3"
    },
    "language_info": {
      "name": "python"
    },
    "accelerator": "GPU"
  },
  "cells": [
    {
      "cell_type": "code",
      "execution_count": 1,
      "metadata": {
        "colab": {
          "base_uri": "https://localhost:8080/"
        },
        "id": "p6W4DwnNz036",
        "outputId": "132695f7-17ae-4b9f-98a4-4d4bf258678d"
      },
      "outputs": [
        {
          "output_type": "stream",
          "name": "stdout",
          "text": [
            "Mounted at /content/drive\n",
            "/content/drive/MyDrive/769_Project_Nitin/Hinglish\n"
          ]
        }
      ],
      "source": [
        "from google.colab import drive\n",
        "drive.mount('/content/drive') \n",
        "%cd /content/drive/MyDrive/769_Project_Nitin/Hinglish"
      ]
    },
    {
      "cell_type": "code",
      "source": [
        "!pip install fastcore==1.0.13\n",
        "!pip install transformers==3.3.1\n",
        "!pip install wandb==0.10.5\n",
        "\n",
        "import wandb\n",
        "wandb.login()"
      ],
      "metadata": {
        "id": "2nlvQRBkz_Zd"
      },
      "execution_count": null,
      "outputs": []
    },
    {
      "cell_type": "code",
      "source": [
        "from hinglish import HinglishTrainer\n",
        "\n",
        "hinglishbert = HinglishTrainer(\n",
        "    model_name = \"roberta\",\n",
        "    batch_size = 64,\n",
        "    attention_probs_dropout_prob = 0.4,\n",
        "    learning_rate = 1e-6,\n",
        "    adam_epsilon = 1e-8,\n",
        "    hidden_dropout_prob = 0.3,\n",
        "    epochs = 5,\n",
        "    lm_model_dir = \"roberta\",\n",
        "    wname=\"roberta\",\n",
        "    drivepath=\"repro\",\n",
        "    train_json=\"self_train_data/concat_train.json\",\n",
        "    dev_json=\"self_train_data/valid.json\",\n",
        "    test_json=\"self_train_data/test.json\",\n",
        "    test_labels_csv=\"self_train_data/test_labels.csv\",\n",
        "    )\n",
        "\n"
      ],
      "metadata": {
        "id": "oVdSF6lJ2Meg"
      },
      "execution_count": null,
      "outputs": []
    },
    {
      "cell_type": "code",
      "source": [
        "hinglishbert.train()\n",
        "hinglishbert.evaluate()"
      ],
      "metadata": {
        "id": "o-W60rP5uCmR",
        "colab": {
          "base_uri": "https://localhost:8080/"
        },
        "outputId": "8dd3cfaa-f3c4-4487-924a-917eca218419"
      },
      "execution_count": null,
      "outputs": [
        {
          "output_type": "stream",
          "name": "stdout",
          "text": [
            "Loading Sentences and Labels\n",
            "Loading Roberta tokenizer...\n",
            "\n",
            "Setting Config\n",
            "Preparing Dataloaders\n",
            "Train Length: 509\n",
            "Valid Length: 128\n",
            "Dev Length: 93\n",
            "Loading Model\n",
            "model loaded\n",
            "num_training_steps =  2545\n",
            "Starting epoch : 1\n",
            "====== Epoch 1 : Step 0 of 509 ======\n",
            "====== Epoch 1 : Step 100 of 509 ======\n",
            "====== Epoch 1 : Step 200 of 509 ======\n",
            "Valid Accuracy = 0.698 || f1_score = 0.687\n",
            "Evaluation Time : 2.296 min\n",
            "Dev(Test) Accuracy = 0.572 || f1_score = 0.545\n",
            "Evaluation Time : 0.868 min\n",
            "Best dev_f1 = 0.545\n",
            "Saving Model\n",
            "====== Epoch 1 : Step 300 of 509 ======\n",
            "====== Epoch 1 : Step 400 of 509 ======\n",
            "Valid Accuracy = 0.737 || f1_score = 0.737\n",
            "Evaluation Time : 2.297 min\n",
            "Dev(Test) Accuracy = 0.596 || f1_score = 0.593\n",
            "Evaluation Time : 0.866 min\n",
            "Best dev_f1 = 0.593\n",
            "Saving Model\n",
            "====== Epoch 1 : Step 500 of 509 ======\n",
            "Train Accuracy = 0.766 || f1_score = 0.765\n",
            "Evaluation Time : 9.190 min\n",
            "Epoch 1 completed! Epoch Time : 39.862 min\n",
            "Starting epoch : 2\n",
            "====== Epoch 2 : Step 0 of 509 ======\n",
            "====== Epoch 2 : Step 100 of 509 ======\n",
            "====== Epoch 2 : Step 200 of 509 ======\n",
            "Valid Accuracy = 0.719 || f1_score = 0.713\n",
            "Evaluation Time : 2.294 min\n",
            "Dev(Test) Accuracy = 0.585 || f1_score = 0.567\n",
            "Evaluation Time : 0.866 min\n",
            "====== Epoch 2 : Step 300 of 509 ======\n",
            "====== Epoch 2 : Step 400 of 509 ======\n",
            "Valid Accuracy = 0.742 || f1_score = 0.741\n",
            "Evaluation Time : 2.295 min\n",
            "Dev(Test) Accuracy = 0.591 || f1_score = 0.584\n",
            "Evaluation Time : 0.866 min\n",
            "====== Epoch 2 : Step 500 of 509 ======\n"
          ]
        }
      ]
    }
  ]
}